{
 "cells": [
  {
   "cell_type": "markdown",
   "id": "daf55029",
   "metadata": {},
   "source": [
    "1/Import & configuration Selenium"
   ]
  },
  {
   "cell_type": "code",
   "execution_count": 16,
   "id": "c592826d",
   "metadata": {},
   "outputs": [],
   "source": [
    "from selenium import webdriver\n",
    "from selenium.webdriver.chrome.service import Service\n",
    "from selenium.webdriver.chrome.options import Options\n",
    "from webdriver_manager.chrome import ChromeDriverManager\n",
    "from bs4 import BeautifulSoup\n",
    "import pandas as pd\n",
    "import os, time\n"
   ]
  },
  {
   "cell_type": "markdown",
   "id": "a18e0a9c",
   "metadata": {},
   "source": [
    "**2/Lancer Chrome**"
   ]
  },
  {
   "cell_type": "code",
   "execution_count": 37,
   "id": "cb098555",
   "metadata": {},
   "outputs": [],
   "source": [
    "options = Options()\n",
    "options.add_argument(\"--headless=new\")\n",
    "options.add_argument(\"--no-sandbox\")\n",
    "options.add_argument(\"--disable-dev-shm-usage\")\n",
    "options.add_argument(\"user-agent=Mozilla/5.0 (Windows NT 10.0; Win64; x64) AppleWebKit/537.36 (KHTML, like Gecko) Chrome/115.0.0.0 Safari/537.36\")\n",
    "\n",
    "driver = webdriver.Chrome(service=Service(ChromeDriverManager().install()), options=options)\n"
   ]
  },
  {
   "cell_type": "markdown",
   "id": "36ce775b",
   "metadata": {},
   "source": [
    "**3/Page principale**"
   ]
  },
  {
   "cell_type": "code",
   "execution_count": 42,
   "id": "8de25595",
   "metadata": {},
   "outputs": [],
   "source": [
    "league_url = \"https://fbref.com/en/comps/9/2024-2025/2024-2025-Premier-League-Stats\"\n",
    "driver.get(league_url)\n",
    "time.sleep(3)"
   ]
  },
  {
   "cell_type": "markdown",
   "id": "05a27860",
   "metadata": {},
   "source": [
    "**4/Extraire les liens d’équipes**"
   ]
  },
  {
   "cell_type": "code",
   "execution_count": 43,
   "id": "f7116987",
   "metadata": {},
   "outputs": [
    {
     "name": "stdout",
     "output_type": "stream",
     "text": [
      "20 équipes trouvées\n"
     ]
    },
    {
     "data": {
      "text/plain": [
       "[('Liverpool',\n",
       "  'https://fbref.com/en/squads/822bd0ba/2024-2025/Liverpool-Stats'),\n",
       " ('Arsenal', 'https://fbref.com/en/squads/18bb7c10/2024-2025/Arsenal-Stats'),\n",
       " ('Manchester City',\n",
       "  'https://fbref.com/en/squads/b8fd03ef/2024-2025/Manchester-City-Stats'),\n",
       " ('Chelsea', 'https://fbref.com/en/squads/cff3d9bb/2024-2025/Chelsea-Stats'),\n",
       " ('Newcastle Utd',\n",
       "  'https://fbref.com/en/squads/b2b47a98/2024-2025/Newcastle-United-Stats'),\n",
       " ('Aston Villa',\n",
       "  'https://fbref.com/en/squads/8602292d/2024-2025/Aston-Villa-Stats'),\n",
       " (\"Nott'ham Forest\",\n",
       "  'https://fbref.com/en/squads/e4a775cb/2024-2025/Nottingham-Forest-Stats'),\n",
       " ('Brighton',\n",
       "  'https://fbref.com/en/squads/d07537b9/2024-2025/Brighton-and-Hove-Albion-Stats'),\n",
       " ('Bournemouth',\n",
       "  'https://fbref.com/en/squads/4ba7cbea/2024-2025/Bournemouth-Stats'),\n",
       " ('Brentford',\n",
       "  'https://fbref.com/en/squads/cd051869/2024-2025/Brentford-Stats'),\n",
       " ('Fulham', 'https://fbref.com/en/squads/fd962109/2024-2025/Fulham-Stats'),\n",
       " ('Crystal Palace',\n",
       "  'https://fbref.com/en/squads/47c64c55/2024-2025/Crystal-Palace-Stats'),\n",
       " ('Everton', 'https://fbref.com/en/squads/d3fd31cc/2024-2025/Everton-Stats'),\n",
       " ('West Ham',\n",
       "  'https://fbref.com/en/squads/7c21e445/2024-2025/West-Ham-United-Stats'),\n",
       " ('Manchester Utd',\n",
       "  'https://fbref.com/en/squads/19538871/2024-2025/Manchester-United-Stats'),\n",
       " ('Wolves',\n",
       "  'https://fbref.com/en/squads/8cec06e1/2024-2025/Wolverhampton-Wanderers-Stats'),\n",
       " ('Tottenham',\n",
       "  'https://fbref.com/en/squads/361ca564/2024-2025/Tottenham-Hotspur-Stats'),\n",
       " ('Leicester City',\n",
       "  'https://fbref.com/en/squads/a2d435b3/2024-2025/Leicester-City-Stats'),\n",
       " ('Ipswich Town',\n",
       "  'https://fbref.com/en/squads/b74092de/2024-2025/Ipswich-Town-Stats'),\n",
       " ('Southampton',\n",
       "  'https://fbref.com/en/squads/33c895d4/2024-2025/Southampton-Stats')]"
      ]
     },
     "execution_count": 43,
     "metadata": {},
     "output_type": "execute_result"
    }
   ],
   "source": [
    "# Extraire les liens d’équipes UNIQUEMENT depuis le tableau principal\n",
    "soup = BeautifulSoup(driver.page_source, \"lxml\")\n",
    "teams = []\n",
    "\n",
    "# Trouver le tableau principal contenant la liste des équipes\n",
    "main_table = soup.find(\"table\", {\"id\": lambda x: x and \"results\" in x})\n",
    "if main_table:\n",
    "    for a in main_table.select(\"a[href*='/squads/']\"):\n",
    "        team_name = a.get_text(strip=True)\n",
    "        team_link = a[\"href\"]\n",
    "        if team_name and team_link.startswith(\"/en/squads/\"):\n",
    "            full_url = \"https://fbref.com\" + team_link\n",
    "            if (team_name, full_url) not in teams:\n",
    "                teams.append((team_name, full_url))\n",
    "else:\n",
    "    print(\"⚠️ Tableau principal non trouvé sur la page.\")\n",
    "\n",
    "print(f\"{len(teams)} équipes trouvées\")\n",
    "teams\n"
   ]
  },
  {
   "cell_type": "code",
   "execution_count": 28,
   "id": "bdf5dfc8",
   "metadata": {},
   "outputs": [],
   "source": [
    "# --- Dossier de sauvegarde ---\n",
    "base_dir = \"../Data/Bronze\"\n",
    "os.makedirs(base_dir, exist_ok=True)"
   ]
  },
  {
   "cell_type": "markdown",
   "id": "d8a95ba3",
   "metadata": {},
   "source": [
    "**5/Scraping des joueurs (jusqu’à Performance) et des matchs (jusqu’à Referee)**"
   ]
  },
  {
   "cell_type": "code",
   "execution_count": 44,
   "id": "a0195c7c",
   "metadata": {},
   "outputs": [
    {
     "name": "stdout",
     "output_type": "stream",
     "text": [
      "\n",
      "=== Scraping Liverpool ===\n",
      "✅ players.csv sauvegardé (29 lignes, 16 colonnes)\n",
      "✅ matches.csv sauvegardé (56 lignes, 18 colonnes)\n",
      "\n",
      "=== Scraping Arsenal ===\n",
      "✅ players.csv sauvegardé (38 lignes, 16 colonnes)\n",
      "✅ matches.csv sauvegardé (58 lignes, 18 colonnes)\n",
      "\n",
      "=== Scraping Manchester City ===\n",
      "✅ players.csv sauvegardé (36 lignes, 16 colonnes)\n",
      "✅ matches.csv sauvegardé (57 lignes, 18 colonnes)\n",
      "\n",
      "=== Scraping Chelsea ===\n",
      "✅ players.csv sauvegardé (35 lignes, 16 colonnes)\n",
      "✅ matches.csv sauvegardé (57 lignes, 18 colonnes)\n",
      "\n",
      "=== Scraping Newcastle Utd ===\n",
      "✅ players.csv sauvegardé (30 lignes, 16 colonnes)\n",
      "✅ matches.csv sauvegardé (48 lignes, 18 colonnes)\n",
      "\n",
      "=== Scraping Aston Villa ===\n",
      "✅ players.csv sauvegardé (34 lignes, 16 colonnes)\n",
      "✅ matches.csv sauvegardé (57 lignes, 18 colonnes)\n",
      "\n",
      "=== Scraping Nott'ham Forest ===\n",
      "✅ players.csv sauvegardé (27 lignes, 16 colonnes)\n",
      "✅ matches.csv sauvegardé (44 lignes, 18 colonnes)\n",
      "\n",
      "=== Scraping Brighton ===\n",
      "✅ players.csv sauvegardé (42 lignes, 16 colonnes)\n",
      "✅ matches.csv sauvegardé (45 lignes, 18 colonnes)\n",
      "\n",
      "=== Scraping Bournemouth ===\n",
      "✅ players.csv sauvegardé (38 lignes, 16 colonnes)\n",
      "✅ matches.csv sauvegardé (43 lignes, 18 colonnes)\n",
      "\n",
      "=== Scraping Brentford ===\n",
      "✅ players.csv sauvegardé (35 lignes, 16 colonnes)\n",
      "✅ matches.csv sauvegardé (43 lignes, 18 colonnes)\n",
      "\n",
      "=== Scraping Fulham ===\n",
      "✅ players.csv sauvegardé (28 lignes, 16 colonnes)\n",
      "✅ matches.csv sauvegardé (44 lignes, 18 colonnes)\n",
      "\n",
      "=== Scraping Crystal Palace ===\n",
      "✅ players.csv sauvegardé (37 lignes, 16 colonnes)\n",
      "✅ matches.csv sauvegardé (48 lignes, 18 colonnes)\n",
      "\n",
      "=== Scraping Everton ===\n",
      "✅ players.csv sauvegardé (35 lignes, 16 colonnes)\n",
      "✅ matches.csv sauvegardé (42 lignes, 18 colonnes)\n",
      "\n",
      "=== Scraping West Ham ===\n",
      "✅ players.csv sauvegardé (29 lignes, 16 colonnes)\n",
      "✅ matches.csv sauvegardé (41 lignes, 18 colonnes)\n",
      "\n",
      "=== Scraping Manchester Utd ===\n",
      "✅ players.csv sauvegardé (41 lignes, 16 colonnes)\n",
      "✅ matches.csv sauvegardé (60 lignes, 18 colonnes)\n",
      "\n",
      "=== Scraping Wolves ===\n",
      "✅ players.csv sauvegardé (37 lignes, 16 colonnes)\n",
      "✅ matches.csv sauvegardé (43 lignes, 18 colonnes)\n",
      "\n",
      "=== Scraping Tottenham ===\n",
      "✅ players.csv sauvegardé (40 lignes, 16 colonnes)\n",
      "✅ matches.csv sauvegardé (60 lignes, 18 colonnes)\n",
      "\n",
      "=== Scraping Leicester City ===\n",
      "✅ players.csv sauvegardé (38 lignes, 16 colonnes)\n",
      "✅ matches.csv sauvegardé (43 lignes, 18 colonnes)\n",
      "\n",
      "=== Scraping Ipswich Town ===\n",
      "✅ players.csv sauvegardé (35 lignes, 16 colonnes)\n",
      "✅ matches.csv sauvegardé (42 lignes, 18 colonnes)\n",
      "\n",
      "=== Scraping Southampton ===\n",
      "✅ players.csv sauvegardé (38 lignes, 16 colonnes)\n",
      "✅ matches.csv sauvegardé (44 lignes, 18 colonnes)\n"
     ]
    }
   ],
   "source": [
    "# --- Boucle principale sur chaque équipe ---\n",
    "for team_name, team_url in teams:\n",
    "    print(f\"\\n=== Scraping {team_name} ===\")\n",
    "    team_dir = os.path.join(base_dir, team_name)\n",
    "    os.makedirs(team_dir, exist_ok=True)\n",
    "\n",
    "    try:\n",
    "        driver.get(team_url)\n",
    "        time.sleep(3)\n",
    "        page = BeautifulSoup(driver.page_source, \"lxml\")\n",
    "\n",
    "        # ======================\n",
    "        #  TABLE DES JOUEURS\n",
    "        # ======================\n",
    "        player_table = page.find(\"table\", id=lambda x: x and \"stats_standard\" in x)\n",
    "        if player_table:\n",
    "            # Récupérer la 2e ligne du thead (les vrais noms de colonnes)\n",
    "            thead_trs = player_table.find(\"thead\").find_all(\"tr\")\n",
    "            if len(thead_trs) >= 2:\n",
    "                headers = [th.get_text(strip=True) for th in thead_trs[1].find_all(\"th\")]\n",
    "            else:\n",
    "                headers = [th.get_text(strip=True) for th in thead_trs[0].find_all(\"th\")]\n",
    "\n",
    "            # Garder seulement jusqu’à \"CrdR\" inclus\n",
    "            if \"CrdR\" in headers:\n",
    "                crdr_idx = headers.index(\"CrdR\") + 1\n",
    "                headers = headers[:crdr_idx]\n",
    "            else:\n",
    "                crdr_idx = len(headers)\n",
    "\n",
    "            rows = []\n",
    "            for tr in player_table.find(\"tbody\").find_all(\"tr\"):\n",
    "                # Ignorer les lignes décoratives (thead au milieu du tbody)\n",
    "                if \"class\" in tr.attrs and \"thead\" in tr.attrs[\"class\"]:\n",
    "                    continue\n",
    "\n",
    "                cols = [td.get_text(strip=True) for td in tr.find_all([\"th\", \"td\"])]\n",
    "                # Couper les colonnes au même index que CrdR\n",
    "                cols = cols[:crdr_idx]\n",
    "                rows.append(cols)\n",
    "\n",
    "            df_players = pd.DataFrame(rows, columns=headers)\n",
    "            df_players.to_csv(os.path.join(team_dir, \"players.csv\"), index=False, encoding=\"utf-8-sig\")\n",
    "            print(f\"✅ players.csv sauvegardé ({len(df_players)} lignes, {len(df_players.columns)} colonnes)\")\n",
    "        else:\n",
    "            print(\"⚠️ Table joueurs non trouvée\")\n",
    "\n",
    "        # ======================\n",
    "        #  TABLE DES MATCHS\n",
    "        # ======================\n",
    "        match_table = page.find(\"table\", id=lambda x: x and \"matchlogs_for\" in x)\n",
    "        if match_table:\n",
    "            # Prendre uniquement la 2e ligne du thead\n",
    "            thead_trs = match_table.find(\"thead\").find_all(\"tr\")\n",
    "            headers = [th.get_text(strip=True) for th in thead_trs[-1].find_all(\"th\")]\n",
    "\n",
    "            # Garder jusqu’à “Referee” inclus\n",
    "            if \"Referee\" in headers:\n",
    "                ref_idx = headers.index(\"Referee\") + 1\n",
    "                headers = headers[:ref_idx]\n",
    "            else:\n",
    "                ref_idx = len(headers)\n",
    "\n",
    "            rows = []\n",
    "            for tr in match_table.find(\"tbody\").find_all(\"tr\"):\n",
    "                if \"class\" in tr.attrs and \"thead\" in tr.attrs[\"class\"]:\n",
    "                    continue\n",
    "\n",
    "                cols = [td.get_text(strip=True) for td in tr.find_all([\"th\", \"td\"])]\n",
    "                cols = cols[:ref_idx]\n",
    "                rows.append(cols)\n",
    "\n",
    "            df_matches = pd.DataFrame(rows, columns=headers)\n",
    "            df_matches.to_csv(os.path.join(team_dir, \"matches.csv\"), index=False, encoding=\"utf-8-sig\")\n",
    "            print(f\"✅ matches.csv sauvegardé ({len(df_matches)} lignes, {len(df_matches.columns)} colonnes)\")\n",
    "        else:\n",
    "            print(\"⚠️ Table matchs non trouvée\")\n",
    "\n",
    "    except Exception as e:\n",
    "        print(f\"❌ Erreur sur {team_name}: {e}\")\n",
    "\n",
    "    time.sleep(2)\n"
   ]
  },
  {
   "cell_type": "code",
   "execution_count": 15,
   "id": "f0eef421",
   "metadata": {},
   "outputs": [
    {
     "name": "stdout",
     "output_type": "stream",
     "text": [
      "\n",
      " Scraping terminé !\n"
     ]
    }
   ],
   "source": [
    "driver.quit()\n",
    "print(\"\\n Scraping terminé !\")"
   ]
  }
 ],
 "metadata": {
  "kernelspec": {
   "display_name": "Python 3",
   "language": "python",
   "name": "python3"
  },
  "language_info": {
   "codemirror_mode": {
    "name": "ipython",
    "version": 3
   },
   "file_extension": ".py",
   "mimetype": "text/x-python",
   "name": "python",
   "nbconvert_exporter": "python",
   "pygments_lexer": "ipython3",
   "version": "3.13.7"
  }
 },
 "nbformat": 4,
 "nbformat_minor": 5
}
