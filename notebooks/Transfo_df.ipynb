{
 "cells": [
  {
   "cell_type": "markdown",
   "id": "ec8a7da0",
   "metadata": {},
   "source": [
    "Nettoyage : suppression ou traitement des valeurs manquantes et incohérentes.\n"
   ]
  },
  {
   "cell_type": "code",
   "execution_count": null,
   "id": "08a214aa",
   "metadata": {},
   "outputs": [],
   "source": []
  },
  {
   "cell_type": "markdown",
   "id": "88d3d312",
   "metadata": {},
   "source": [
    "Standardisation : harmonisation des unités, formats de date et noms de colonnes pour garantir la cohérence et la qualité des données.\n"
   ]
  },
  {
   "cell_type": "code",
   "execution_count": null,
   "id": "6502217f",
   "metadata": {},
   "outputs": [],
   "source": []
  }
 ],
 "metadata": {
  "language_info": {
   "name": "python"
  }
 },
 "nbformat": 4,
 "nbformat_minor": 5
}
